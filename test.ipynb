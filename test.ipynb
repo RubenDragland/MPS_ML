{
 "cells": [
  {
   "cell_type": "code",
   "execution_count": 35,
   "metadata": {},
   "outputs": [],
   "source": [
    "import numpy as np\n",
    "from data import ImageFolderDataset"
   ]
  },
  {
   "cell_type": "code",
   "execution_count": 3,
   "metadata": {},
   "outputs": [
    {
     "name": "stdout",
     "output_type": "stream",
     "text": [
      "(5, 5)\n",
      "[[3. 0. 0. 0. 0.]\n",
      " [0. 3. 0. 0. 0.]\n",
      " [0. 0. 3. 0. 0.]\n",
      " [0. 0. 0. 2. 0.]\n",
      " [0. 0. 0. 0. 2.]]\n"
     ]
    }
   ],
   "source": [
    "M = np.identity(3)*3\n",
    "M_th = np.identity(2)*2\n",
    "N = np.zeros(np.add(M.shape, M_th.shape ) )\n",
    "print(N.shape)\n",
    "N[:M.shape[0], :M.shape[1] ] = M\n",
    "N[M.shape[0]:, M.shape[1]: ] = M_th\n",
    "print(N)"
   ]
  },
  {
   "cell_type": "code",
   "execution_count": 32,
   "metadata": {},
   "outputs": [
    {
     "name": "stdout",
     "output_type": "stream",
     "text": [
      "1.0\n"
     ]
    }
   ],
   "source": [
    "a = 1/ np.sqrt(2) * np.array([1,1])\n",
    "b = 1/ np.sqrt(2) * np.array([1,1])\n",
    "\n",
    "c = np.array([1,0])\n",
    "d = np.array([0,1])\n",
    "\n",
    "\n",
    "x = 0.5\n",
    "test1 = np.array( [np.cos(np.pi/2 *x ), np.sin(np.pi/2 * x)] )\n",
    "test2 = test1.copy()\n",
    "test3 = test1 + test2\n",
    "un_norm = test3 + test2 + test3 \n",
    "#normed = un_norm / \n",
    "print(np.linalg.norm(test1) )"
   ]
  },
  {
   "cell_type": "code",
   "execution_count": 34,
   "metadata": {},
   "outputs": [
    {
     "name": "stdout",
     "output_type": "stream",
     "text": [
      "Downloading http://yann.lecun.com/exdb/mnist/train-images-idx3-ubyte.gz\n",
      "Downloading http://yann.lecun.com/exdb/mnist/train-images-idx3-ubyte.gz to c:\\Users\\Bruker\\OneDrive\\Dokumenter\\TUM\\Computational Methods in Many-Body-Physics\\dataset\\MNIST\\raw\\train-images-idx3-ubyte.gz\n"
     ]
    },
    {
     "name": "stderr",
     "output_type": "stream",
     "text": [
      "100%|██████████| 9912422/9912422 [00:00<00:00, 28240282.65it/s]\n"
     ]
    },
    {
     "name": "stdout",
     "output_type": "stream",
     "text": [
      "Extracting c:\\Users\\Bruker\\OneDrive\\Dokumenter\\TUM\\Computational Methods in Many-Body-Physics\\dataset\\MNIST\\raw\\train-images-idx3-ubyte.gz to c:\\Users\\Bruker\\OneDrive\\Dokumenter\\TUM\\Computational Methods in Many-Body-Physics\\dataset\\MNIST\\raw\n",
      "\n",
      "Downloading http://yann.lecun.com/exdb/mnist/train-labels-idx1-ubyte.gz\n",
      "Downloading http://yann.lecun.com/exdb/mnist/train-labels-idx1-ubyte.gz to c:\\Users\\Bruker\\OneDrive\\Dokumenter\\TUM\\Computational Methods in Many-Body-Physics\\dataset\\MNIST\\raw\\train-labels-idx1-ubyte.gz\n"
     ]
    },
    {
     "name": "stderr",
     "output_type": "stream",
     "text": [
      "100%|██████████| 28881/28881 [00:00<00:00, 28739191.89it/s]"
     ]
    },
    {
     "name": "stdout",
     "output_type": "stream",
     "text": [
      "Extracting c:\\Users\\Bruker\\OneDrive\\Dokumenter\\TUM\\Computational Methods in Many-Body-Physics\\dataset\\MNIST\\raw\\train-labels-idx1-ubyte.gz to c:\\Users\\Bruker\\OneDrive\\Dokumenter\\TUM\\Computational Methods in Many-Body-Physics\\dataset\\MNIST\\raw\n",
      "\n",
      "Downloading http://yann.lecun.com/exdb/mnist/t10k-images-idx3-ubyte.gz\n",
      "Downloading http://yann.lecun.com/exdb/mnist/t10k-images-idx3-ubyte.gz to c:\\Users\\Bruker\\OneDrive\\Dokumenter\\TUM\\Computational Methods in Many-Body-Physics\\dataset\\MNIST\\raw\\t10k-images-idx3-ubyte.gz\n"
     ]
    },
    {
     "name": "stderr",
     "output_type": "stream",
     "text": [
      "\n",
      "100%|██████████| 1648877/1648877 [00:00<00:00, 17795521.71it/s]\n"
     ]
    },
    {
     "name": "stdout",
     "output_type": "stream",
     "text": [
      "Extracting c:\\Users\\Bruker\\OneDrive\\Dokumenter\\TUM\\Computational Methods in Many-Body-Physics\\dataset\\MNIST\\raw\\t10k-images-idx3-ubyte.gz to c:\\Users\\Bruker\\OneDrive\\Dokumenter\\TUM\\Computational Methods in Many-Body-Physics\\dataset\\MNIST\\raw\n",
      "\n",
      "Downloading http://yann.lecun.com/exdb/mnist/t10k-labels-idx1-ubyte.gz\n",
      "Downloading http://yann.lecun.com/exdb/mnist/t10k-labels-idx1-ubyte.gz to c:\\Users\\Bruker\\OneDrive\\Dokumenter\\TUM\\Computational Methods in Many-Body-Physics\\dataset\\MNIST\\raw\\t10k-labels-idx1-ubyte.gz\n"
     ]
    },
    {
     "name": "stderr",
     "output_type": "stream",
     "text": [
      "100%|██████████| 4542/4542 [00:00<?, ?it/s]"
     ]
    },
    {
     "name": "stdout",
     "output_type": "stream",
     "text": [
      "Extracting c:\\Users\\Bruker\\OneDrive\\Dokumenter\\TUM\\Computational Methods in Many-Body-Physics\\dataset\\MNIST\\raw\\t10k-labels-idx1-ubyte.gz to c:\\Users\\Bruker\\OneDrive\\Dokumenter\\TUM\\Computational Methods in Many-Body-Physics\\dataset\\MNIST\\raw\n",
      "\n"
     ]
    },
    {
     "name": "stderr",
     "output_type": "stream",
     "text": [
      "\n"
     ]
    },
    {
     "data": {
      "text/plain": [
       "Dataset MNIST\n",
       "    Number of datapoints: 10000\n",
       "    Root location: c:\\Users\\Bruker\\OneDrive\\Dokumenter\\TUM\\Computational Methods in Many-Body-Physics\\dataset\n",
       "    Split: Test"
      ]
     },
     "execution_count": 34,
     "metadata": {},
     "output_type": "execute_result"
    }
   ],
   "source": [
    "import torch.nn\n",
    "import torchvision\n",
    "import os\n",
    "\n",
    "\n",
    "torchvision.datasets.MNIST(root = os.path.join( os.path.dirname(os.path.abspath(os.getcwd())), \"dataset\"), train= True, download = True) \n",
    "torchvision.datasets.MNIST(root = os.path.join( os.path.dirname(os.path.abspath(os.getcwd())), \"dataset\"), train= False, download = True) "
   ]
  },
  {
   "cell_type": "code",
   "execution_count": null,
   "metadata": {},
   "outputs": [],
   "source": []
  }
 ],
 "metadata": {
  "kernelspec": {
   "display_name": "Python 3.10.4 ('TUM_SPIN')",
   "language": "python",
   "name": "python3"
  },
  "language_info": {
   "codemirror_mode": {
    "name": "ipython",
    "version": 3
   },
   "file_extension": ".py",
   "mimetype": "text/x-python",
   "name": "python",
   "nbconvert_exporter": "python",
   "pygments_lexer": "ipython3",
   "version": "3.10.4"
  },
  "orig_nbformat": 4,
  "vscode": {
   "interpreter": {
    "hash": "7980a998aa3feb71cffb8ad7f68f581c96d27b85db5d9029340abec38417aa06"
   }
  }
 },
 "nbformat": 4,
 "nbformat_minor": 2
}
