{
 "cells": [
  {
   "cell_type": "code",
   "execution_count": null,
   "metadata": {},
   "outputs": [],
   "source": [
    "import torch.nn as nn\n",
    "from torchvision import transforms\n",
    "import numpy as np\n",
    "import pytorch_lightning as pl\n",
    "import matplotlib.pyplot as plt\n",
    "import os\n",
    "from data import ImageFolderDataset\n",
    "import data\n",
    "import mps\n",
    "\n",
    "%load_ext autoreload\n",
    "%autoreload 2\n",
    "%matplotlib inline"
   ]
  },
  {
   "cell_type": "code",
   "execution_count": null,
   "metadata": {},
   "outputs": [],
   "source": [
    "# Paths\n",
    "cwd = os.path.abspath(os.getcwd() )\n",
    "cwd\n",
    "mnist_root = os.path.join(cwd, \"dataset\", \"MNIST\", \"raw\")\n",
    "mnist_root"
   ]
  },
  {
   "cell_type": "code",
   "execution_count": null,
   "metadata": {},
   "outputs": [],
   "source": [
    "# Transforms\n",
    "\n",
    "transform = transforms.Compose([])"
   ]
  },
  {
   "cell_type": "code",
   "execution_count": null,
   "metadata": {},
   "outputs": [],
   "source": [
    "# Transforms and loading\n",
    "\n",
    "train = data.ImageFolderDataset(root=mnist_root,images='train_images.pt',labels='train_labels.pt',force_download=False,verbose=True,transform=transform)\n",
    "val = data.ImageFolderDataset(root=mnist_root,images='val_images.pt',labels='val_labels.pt',force_download=False,verbose=True,transform=transform)\n",
    "test = data.ImageFolderDataset(root=mnist_root,images='test_images.pt',labels='test_labels.pt',force_download=False,verbose=True,transform=transform)"
   ]
  },
  {
   "cell_type": "code",
   "execution_count": null,
   "metadata": {},
   "outputs": [],
   "source": [
    "plt.imshow(train.images[0,0])"
   ]
  },
  {
   "cell_type": "code",
   "execution_count": null,
   "metadata": {},
   "outputs": [],
   "source": [
    "train.images.shape\n",
    "train.labels.shape"
   ]
  },
  {
   "cell_type": "code",
   "execution_count": null,
   "metadata": {},
   "outputs": [],
   "source": [
    "# Convert to numpy\n",
    "train.images, train.labels = train.images.numpy(), train.labels.numpy()\n",
    "val.images, val.labels = val.images.numpy(), val.labels.numpy()\n",
    "test.images, test.labels = test.images.numpy(), test.labels.numpy()"
   ]
  },
  {
   "cell_type": "code",
   "execution_count": null,
   "metadata": {},
   "outputs": [],
   "source": [
    "train.images.shape"
   ]
  },
  {
   "cell_type": "code",
   "execution_count": null,
   "metadata": {},
   "outputs": [],
   "source": [
    "test_mps = mps.MNIST_MPS(train.images[0,0], train.images[0,0].shape, train.labels[0])"
   ]
  },
  {
   "cell_type": "code",
   "execution_count": null,
   "metadata": {},
   "outputs": [],
   "source": [
    "print(test_mps.Bs)"
   ]
  },
  {
   "cell_type": "code",
   "execution_count": null,
   "metadata": {},
   "outputs": [],
   "source": [
    "added_mps = test_mps + test_mps"
   ]
  },
  {
   "cell_type": "code",
   "execution_count": null,
   "metadata": {},
   "outputs": [],
   "source": [
    "print(added_mps.Bs)"
   ]
  },
  {
   "cell_type": "code",
   "execution_count": null,
   "metadata": {},
   "outputs": [],
   "source": [
    "plt.imshow(added_mps.img)"
   ]
  },
  {
   "cell_type": "code",
   "execution_count": null,
   "metadata": {},
   "outputs": [],
   "source": [
    "print(mps.overlap_theta(test_mps, test_mps) )\n",
    "print(mps.overlap_theta(test_mps, added_mps) )\n"
   ]
  },
  {
   "cell_type": "code",
   "execution_count": null,
   "metadata": {},
   "outputs": [],
   "source": [
    "quantum_digits = {\n",
    "\"0\": None,    \n",
    "\"1\": None,\n",
    "\"2\": None,\n",
    "\"3\": None,\n",
    "\"4\": None,\n",
    "\"5\": None,\n",
    "\"6\": None,\n",
    "\"7\": None,\n",
    "\"8\": None,\n",
    "\"9\": None,\n",
    "}\n",
    "\n",
    "for i in range(len(train.images)):\n",
    "    qs = mps.MNIST_MPS(train.images[i], train.images[i,0].shape, train.labels[i] )\n",
    "    if quantum_digits[str(train.labels[i])] :\n",
    "        quantum_digits[str(train.labels[i])] = quantum_digits[str(train.labels[i])] + qs\n",
    "    else:\n",
    "        quantum_digits[str(train.labels[i])] = qs\n"
   ]
  },
  {
   "cell_type": "code",
   "execution_count": null,
   "metadata": {},
   "outputs": [],
   "source": [
    "# Check norm of sum of product states\n",
    "\n",
    "for key, item in quantum_digits.items():\n",
    "    print(f\"{key}: {mps.overlap_rC(item, item)} \\n\")"
   ]
  },
  {
   "cell_type": "code",
   "execution_count": null,
   "metadata": {},
   "outputs": [],
   "source": [
    "# Test overlap with keys:\n",
    "quantum_overlaps = {\n",
    "\"0\": None,    \n",
    "\"1\": None,\n",
    "\"2\": None,\n",
    "\"3\": None,\n",
    "\"4\": None,\n",
    "\"5\": None,\n",
    "\"6\": None,\n",
    "\"7\": None,\n",
    "\"8\": None,\n",
    "\"9\": None,\n",
    "}\n",
    "quantum_overlaps_rC = {\n",
    "\"0\": None,    \n",
    "\"1\": None,\n",
    "\"2\": None,\n",
    "\"3\": None,\n",
    "\"4\": None,\n",
    "\"5\": None,\n",
    "\"6\": None,\n",
    "\"7\": None,\n",
    "\"8\": None,\n",
    "\"9\": None,\n",
    "}\n",
    "\n",
    "for key, item in quantum_digits.items():\n",
    "    quantum_overlaps[key] = mps.overlap_theta(item, test_mps)\n",
    "    quantum_overlaps_rC[key] = mps.overlap_rC(item, test_mps)\n",
    "\n"
   ]
  },
  {
   "cell_type": "code",
   "execution_count": null,
   "metadata": {},
   "outputs": [],
   "source": [
    "print(f\"Test label {test_mps.label}\")\n",
    "classifier_score = 0\n",
    "classifier_score_rC = 0\n",
    "pred = None\n",
    "pred_rC = None\n",
    "for (key, item), (krC,irC) in zip(quantum_overlaps.items(), quantum_overlaps_rC.items() ):\n",
    "    print(f\"{key}: {item}  {irC} \\n\")\n",
    "    if np.abs(item) > classifier_score:\n",
    "        classifier_score = np.abs(item)\n",
    "        pred = key\n",
    "    if np.abs(irC) > classifier_score_rC:\n",
    "        classifier_score_rC = np.abs(irC)\n",
    "        pred_rC = krC\n",
    "\n",
    "print(f\"Predition {pred} Overlap {classifier_score}\")\n",
    "print(f\"rC: Predition {pred_rC} Overlap {classifier_score_rC}\")"
   ]
  },
  {
   "cell_type": "code",
   "execution_count": null,
   "metadata": {},
   "outputs": [],
   "source": [
    "# Illustrate images\n",
    "\n",
    "plt.imshow(test_mps.img)\n",
    "plt.show()\n",
    "plt.imshow(quantum_digits[pred].img)\n",
    "plt.show()\n",
    "\n",
    "#fig, ax = plt.subplots(1,10, figsize = (12,6))\n",
    "for i, (key, item) in enumerate(quantum_digits.items() ):\n",
    "    #index = ((i)%5, (i)//5)\n",
    "    plt.imshow(item.img)\n",
    "    plt.show()\n"
   ]
  },
  {
   "cell_type": "code",
   "execution_count": null,
   "metadata": {},
   "outputs": [],
   "source": [
    "# Even though some parts of the implementation is wrong, I want to check results\n",
    "\n",
    "# Do validation\n",
    "\n",
    "validation_dict = {\n",
    "    \"0\": np.zeros(2), # Zeros are correct, wrong\n",
    "    \"1\": np.zeros(2),\n",
    "    \"2\": np.zeros(2),\n",
    "    \"3\": np.zeros(2),\n",
    "    \"4\": np.zeros(2),\n",
    "    \"5\": np.zeros(2),\n",
    "    \"6\": np.zeros(2),\n",
    "    \"7\": np.zeros(2),\n",
    "    \"8\": np.zeros(2),\n",
    "    \"9\": np.zeros(2),\n",
    "}\n",
    "\n",
    "prediction_dict = { \n",
    "    \"0\": 0,\n",
    "    \"1\": 0,\n",
    "    \"2\": 0,\n",
    "    \"3\": 0,\n",
    "    \"4\": 0,\n",
    "    \"5\": 0,\n",
    "    \"6\": 0,\n",
    "    \"7\": 0,\n",
    "    \"8\": 0,\n",
    "    \"9\": 0,\n",
    "    \n",
    "}\n",
    "\n",
    "\n",
    "for i in range(len(val.images)):\n",
    "    qs = mps.MNIST_MPS(val.images[i], val.images[i,0].shape, val.labels[i] )\n",
    "    classifier_overlap = 0\n",
    "    pred = None\n",
    "    for j, (key, item) in enumerate(quantum_digits.items() ):\n",
    "        \n",
    "        overlap = np.abs( mps.overlap_theta(qs, item ) )\n",
    "        if overlap > classifier_overlap:\n",
    "            classifier_overlap = overlap\n",
    "            pred = key\n",
    "    \n",
    "    if pred == str(qs.label):\n",
    "        validation_dict[ str(qs.label) ][0] += 1\n",
    "        prediction_dict[pred] += 1\n",
    "    else:\n",
    "        validation_dict[ str(qs.label) ][1] +=1\n",
    "        prediction_dict[pred] +=1\n",
    "\n",
    "\n",
    "\n",
    "\n",
    "# Use of Matrix Product States (MPS) to efficiently calculate wave function overlap of MNIST dataset images, and implementing a classification model using Machine Learning (ML)"
   ]
  },
  {
   "cell_type": "code",
   "execution_count": null,
   "metadata": {},
   "outputs": [],
   "source": [
    "print(validation_dict)\n",
    "print(prediction_dict)"
   ]
  },
  {
   "cell_type": "code",
   "execution_count": null,
   "metadata": {},
   "outputs": [],
   "source": [
    "# Plot resuls\n",
    "\n",
    "fig, ax = plt.subplots()\n",
    "width = 0.35\n",
    "bar1 = ax.bar(np.arange(len(validation_dict) ) - width/2, [v[0] for k,v in validation_dict.items()], facecolor=\"blue\", width = width, label = \"Correct\" )\n",
    "bar2 = ax.bar(np.arange(len(validation_dict) ) + width/2, [v[1] for k,v in validation_dict.items()], facecolor=\"red\", width = width, label = \"False\" )\n",
    "\n",
    "ax.set_ylabel('Predictions')\n",
    "ax.set_title('Classifier Score Untrained and False Implementation')\n",
    "ax.set_xticks( np.arange(len(validation_dict) ), np.arange(len(validation_dict) ) )\n",
    "ax.legend()\n",
    "\n",
    "ax.bar_label(bar1, labels= ['{:.1f}%'.format(100*v[0]/(v[0]+v[1]) ) for k,v in validation_dict.items()]  ,padding=3)\n",
    "\n",
    "plt.show()"
   ]
  },
  {
   "cell_type": "code",
   "execution_count": null,
   "metadata": {},
   "outputs": [],
   "source": []
  }
 ],
 "metadata": {
  "kernelspec": {
   "display_name": "Python 3.10.4 ('TUM_SPIN')",
   "language": "python",
   "name": "python3"
  },
  "language_info": {
   "codemirror_mode": {
    "name": "ipython",
    "version": 3
   },
   "file_extension": ".py",
   "mimetype": "text/x-python",
   "name": "python",
   "nbconvert_exporter": "python",
   "pygments_lexer": "ipython3",
   "version": "3.10.4"
  },
  "orig_nbformat": 4,
  "vscode": {
   "interpreter": {
    "hash": "7980a998aa3feb71cffb8ad7f68f581c96d27b85db5d9029340abec38417aa06"
   }
  }
 },
 "nbformat": 4,
 "nbformat_minor": 2
}
